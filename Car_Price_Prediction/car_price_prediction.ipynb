{
 "cells": [
  {
   "cell_type": "code",
   "execution_count": 1,
   "id": "55ee4895-5ebd-4c22-b32b-b670282f2865",
   "metadata": {},
   "outputs": [],
   "source": [
    "import pandas as pd \n",
    "import numpy as np\n",
    "import sklearn\n",
    "\n",
    "import matplotlib.pyplot as plt"
   ]
  },
  {
   "cell_type": "code",
   "execution_count": 2,
   "id": "024e4e2d-9a35-4dc6-a905-e8f378bb190b",
   "metadata": {},
   "outputs": [],
   "source": [
    "pd.set_option(\"display.max_columns\", None)\n"
   ]
  },
  {
   "cell_type": "code",
   "execution_count": 3,
   "id": "d39554ca-590a-49c8-bab7-6fecfe1828fd",
   "metadata": {},
   "outputs": [
    {
     "data": {
      "text/html": [
       "<div>\n",
       "<style scoped>\n",
       "    .dataframe tbody tr th:only-of-type {\n",
       "        vertical-align: middle;\n",
       "    }\n",
       "\n",
       "    .dataframe tbody tr th {\n",
       "        vertical-align: top;\n",
       "    }\n",
       "\n",
       "    .dataframe thead th {\n",
       "        text-align: right;\n",
       "    }\n",
       "</style>\n",
       "<table border=\"1\" class=\"dataframe\">\n",
       "  <thead>\n",
       "    <tr style=\"text-align: right;\">\n",
       "      <th></th>\n",
       "      <th>car_id</th>\n",
       "      <th>price</th>\n",
       "      <th>fuel type</th>\n",
       "      <th>gear type</th>\n",
       "      <th>Make</th>\n",
       "      <th>Model</th>\n",
       "      <th>Year of manufacture</th>\n",
       "      <th>Colour</th>\n",
       "      <th>Condition</th>\n",
       "      <th>Mileage</th>\n",
       "      <th>Engine Size</th>\n",
       "      <th>Selling Condition</th>\n",
       "      <th>Bought Condition</th>\n",
       "      <th>car</th>\n",
       "      <th>Trim</th>\n",
       "      <th>Drivetrain</th>\n",
       "      <th>Seats</th>\n",
       "      <th>Number of Cylinders</th>\n",
       "      <th>Horse Power</th>\n",
       "      <th>Registered city</th>\n",
       "    </tr>\n",
       "  </thead>\n",
       "  <tbody>\n",
       "    <tr>\n",
       "      <th>0</th>\n",
       "      <td>icwAaDOmX573WiRRnLFPT237</td>\n",
       "      <td>2812500</td>\n",
       "      <td>Petrol</td>\n",
       "      <td>Automatic</td>\n",
       "      <td>Toyota</td>\n",
       "      <td>Corolla</td>\n",
       "      <td>2004</td>\n",
       "      <td>Silver</td>\n",
       "      <td>Nigerian Used</td>\n",
       "      <td>251732.0</td>\n",
       "      <td>1800.0</td>\n",
       "      <td>Registered</td>\n",
       "      <td>Registered</td>\n",
       "      <td>NaN</td>\n",
       "      <td>NaN</td>\n",
       "      <td>NaN</td>\n",
       "      <td>NaN</td>\n",
       "      <td>NaN</td>\n",
       "      <td>NaN</td>\n",
       "      <td>NaN</td>\n",
       "    </tr>\n",
       "    <tr>\n",
       "      <th>1</th>\n",
       "      <td>ByZ3NlPy2x0arAIyrKazClUS</td>\n",
       "      <td>5000000</td>\n",
       "      <td>Petrol</td>\n",
       "      <td>Automatic</td>\n",
       "      <td>Acura</td>\n",
       "      <td>MDX</td>\n",
       "      <td>2007</td>\n",
       "      <td>Green</td>\n",
       "      <td>Foreign Used</td>\n",
       "      <td>224589.0</td>\n",
       "      <td>3700.0</td>\n",
       "      <td>Imported</td>\n",
       "      <td>Imported</td>\n",
       "      <td>SUV</td>\n",
       "      <td>NaN</td>\n",
       "      <td>NaN</td>\n",
       "      <td>NaN</td>\n",
       "      <td>NaN</td>\n",
       "      <td>NaN</td>\n",
       "      <td>NaN</td>\n",
       "    </tr>\n",
       "    <tr>\n",
       "      <th>2</th>\n",
       "      <td>2zG6Mh3kwyoTvWoeKHkV1oFH</td>\n",
       "      <td>7592000</td>\n",
       "      <td>Petrol</td>\n",
       "      <td>Automatic</td>\n",
       "      <td>Acura</td>\n",
       "      <td>TL</td>\n",
       "      <td>2012</td>\n",
       "      <td>White</td>\n",
       "      <td>Foreign Used</td>\n",
       "      <td>111334.0</td>\n",
       "      <td>3500.0</td>\n",
       "      <td>Imported</td>\n",
       "      <td>Imported</td>\n",
       "      <td>Sedan</td>\n",
       "      <td>SH-AWD Automatic Tech Package</td>\n",
       "      <td>All Wheel</td>\n",
       "      <td>5.0</td>\n",
       "      <td>6.0</td>\n",
       "      <td>309.0</td>\n",
       "      <td>NaN</td>\n",
       "    </tr>\n",
       "    <tr>\n",
       "      <th>3</th>\n",
       "      <td>7APLHOPlI93qsYK0ST4D4wB2</td>\n",
       "      <td>9880000</td>\n",
       "      <td>Petrol</td>\n",
       "      <td>Automatic</td>\n",
       "      <td>Land Rover</td>\n",
       "      <td>Range Rover</td>\n",
       "      <td>2012</td>\n",
       "      <td>Gray</td>\n",
       "      <td>Nigerian Used</td>\n",
       "      <td>72682.0</td>\n",
       "      <td>4000.0</td>\n",
       "      <td>Registered</td>\n",
       "      <td>Imported</td>\n",
       "      <td>SUV</td>\n",
       "      <td>NaN</td>\n",
       "      <td>NaN</td>\n",
       "      <td>NaN</td>\n",
       "      <td>NaN</td>\n",
       "      <td>NaN</td>\n",
       "      <td>NaN</td>\n",
       "    </tr>\n",
       "    <tr>\n",
       "      <th>4</th>\n",
       "      <td>zIrIDPJLd46eRQf9JFacc0e</td>\n",
       "      <td>4160000</td>\n",
       "      <td>Petrol</td>\n",
       "      <td>Automatic</td>\n",
       "      <td>Ford</td>\n",
       "      <td>Edge</td>\n",
       "      <td>2013</td>\n",
       "      <td>Gray</td>\n",
       "      <td>Nigerian Used</td>\n",
       "      <td>92118.0</td>\n",
       "      <td>3500.0</td>\n",
       "      <td>Registered</td>\n",
       "      <td>Registered</td>\n",
       "      <td>SUV</td>\n",
       "      <td>NaN</td>\n",
       "      <td>NaN</td>\n",
       "      <td>NaN</td>\n",
       "      <td>NaN</td>\n",
       "      <td>NaN</td>\n",
       "      <td>Lagos</td>\n",
       "    </tr>\n",
       "  </tbody>\n",
       "</table>\n",
       "</div>"
      ],
      "text/plain": [
       "                     car_id    price fuel type  gear type        Make  \\\n",
       "0  icwAaDOmX573WiRRnLFPT237  2812500    Petrol  Automatic      Toyota   \n",
       "1  ByZ3NlPy2x0arAIyrKazClUS  5000000    Petrol  Automatic       Acura   \n",
       "2  2zG6Mh3kwyoTvWoeKHkV1oFH  7592000    Petrol  Automatic       Acura   \n",
       "3  7APLHOPlI93qsYK0ST4D4wB2  9880000    Petrol  Automatic  Land Rover   \n",
       "4   zIrIDPJLd46eRQf9JFacc0e  4160000    Petrol  Automatic        Ford   \n",
       "\n",
       "         Model  Year of manufacture  Colour      Condition   Mileage  \\\n",
       "0      Corolla                 2004  Silver  Nigerian Used  251732.0   \n",
       "1          MDX                 2007   Green   Foreign Used  224589.0   \n",
       "2           TL                 2012   White   Foreign Used  111334.0   \n",
       "3  Range Rover                 2012    Gray  Nigerian Used   72682.0   \n",
       "4         Edge                 2013    Gray  Nigerian Used   92118.0   \n",
       "\n",
       "   Engine Size Selling Condition Bought Condition    car  \\\n",
       "0       1800.0        Registered       Registered    NaN   \n",
       "1       3700.0          Imported         Imported    SUV   \n",
       "2       3500.0          Imported         Imported  Sedan   \n",
       "3       4000.0        Registered         Imported    SUV   \n",
       "4       3500.0        Registered       Registered    SUV   \n",
       "\n",
       "                            Trim Drivetrain  Seats  Number of Cylinders  \\\n",
       "0                            NaN        NaN    NaN                  NaN   \n",
       "1                            NaN        NaN    NaN                  NaN   \n",
       "2  SH-AWD Automatic Tech Package  All Wheel    5.0                  6.0   \n",
       "3                            NaN        NaN    NaN                  NaN   \n",
       "4                            NaN        NaN    NaN                  NaN   \n",
       "\n",
       "   Horse Power Registered city  \n",
       "0          NaN             NaN  \n",
       "1          NaN             NaN  \n",
       "2        309.0             NaN  \n",
       "3          NaN             NaN  \n",
       "4          NaN           Lagos  "
      ]
     },
     "execution_count": 3,
     "metadata": {},
     "output_type": "execute_result"
    }
   ],
   "source": [
    "df = pd.read_csv('car_prices.csv')\n",
    "df.head()"
   ]
  },
  {
   "cell_type": "code",
   "execution_count": 4,
   "id": "e6290691-0415-4a1b-bc30-18b75aeb3aea",
   "metadata": {},
   "outputs": [
    {
     "data": {
      "text/plain": [
       "(3722, 20)"
      ]
     },
     "execution_count": 4,
     "metadata": {},
     "output_type": "execute_result"
    }
   ],
   "source": [
    "df.shape"
   ]
  },
  {
   "cell_type": "code",
   "execution_count": 5,
   "id": "d5e15639-d736-4baf-8a99-21b91d71a441",
   "metadata": {},
   "outputs": [
    {
     "data": {
      "text/plain": [
       "Index(['car_id', 'price', 'fuel type', 'gear type', 'Make', 'Model',\n",
       "       'Year of manufacture', 'Colour', 'Condition', 'Mileage', 'Engine Size',\n",
       "       'Selling Condition', 'Bought Condition', 'car', 'Trim', 'Drivetrain',\n",
       "       'Seats', 'Number of Cylinders', 'Horse Power', 'Registered city'],\n",
       "      dtype='object')"
      ]
     },
     "execution_count": 5,
     "metadata": {},
     "output_type": "execute_result"
    }
   ],
   "source": [
    "df.columns"
   ]
  },
  {
   "cell_type": "code",
   "execution_count": 6,
   "id": "28dcd45b-f0e0-4762-b991-eb605b7143bb",
   "metadata": {},
   "outputs": [
    {
     "name": "stdout",
     "output_type": "stream",
     "text": [
      "<class 'pandas.core.frame.DataFrame'>\n",
      "RangeIndex: 3722 entries, 0 to 3721\n",
      "Data columns (total 20 columns):\n",
      " #   Column               Non-Null Count  Dtype  \n",
      "---  ------               --------------  -----  \n",
      " 0   car_id               3722 non-null   object \n",
      " 1   price                3722 non-null   int64  \n",
      " 2   fuel type            3721 non-null   object \n",
      " 3   gear type            3720 non-null   object \n",
      " 4   Make                 3722 non-null   object \n",
      " 5   Model                3722 non-null   object \n",
      " 6   Year of manufacture  3722 non-null   int64  \n",
      " 7   Colour               3717 non-null   object \n",
      " 8   Condition            3722 non-null   object \n",
      " 9   Mileage              3663 non-null   float64\n",
      " 10  Engine Size          3661 non-null   float64\n",
      " 11  Selling Condition    3722 non-null   object \n",
      " 12  Bought Condition     3722 non-null   object \n",
      " 13  car                  1767 non-null   object \n",
      " 14  Trim                 879 non-null    object \n",
      " 15  Drivetrain           838 non-null    object \n",
      " 16  Seats                788 non-null    float64\n",
      " 17  Number of Cylinders  826 non-null    float64\n",
      " 18  Horse Power          755 non-null    float64\n",
      " 19  Registered city      1901 non-null   object \n",
      "dtypes: float64(5), int64(2), object(13)\n",
      "memory usage: 581.7+ KB\n"
     ]
    }
   ],
   "source": [
    "df.info()"
   ]
  },
  {
   "cell_type": "code",
   "execution_count": 7,
   "id": "668af243-cf54-434d-a592-900f46429079",
   "metadata": {},
   "outputs": [
    {
     "data": {
      "text/html": [
       "<div>\n",
       "<style scoped>\n",
       "    .dataframe tbody tr th:only-of-type {\n",
       "        vertical-align: middle;\n",
       "    }\n",
       "\n",
       "    .dataframe tbody tr th {\n",
       "        vertical-align: top;\n",
       "    }\n",
       "\n",
       "    .dataframe thead th {\n",
       "        text-align: right;\n",
       "    }\n",
       "</style>\n",
       "<table border=\"1\" class=\"dataframe\">\n",
       "  <thead>\n",
       "    <tr style=\"text-align: right;\">\n",
       "      <th></th>\n",
       "      <th>price</th>\n",
       "      <th>Year of manufacture</th>\n",
       "      <th>Mileage</th>\n",
       "      <th>Engine Size</th>\n",
       "      <th>Seats</th>\n",
       "      <th>Number of Cylinders</th>\n",
       "      <th>Horse Power</th>\n",
       "    </tr>\n",
       "  </thead>\n",
       "  <tbody>\n",
       "    <tr>\n",
       "      <th>count</th>\n",
       "      <td>3.722000e+03</td>\n",
       "      <td>3722.000000</td>\n",
       "      <td>3.663000e+03</td>\n",
       "      <td>3.661000e+03</td>\n",
       "      <td>788.000000</td>\n",
       "      <td>826.000000</td>\n",
       "      <td>755.000000</td>\n",
       "    </tr>\n",
       "    <tr>\n",
       "      <th>mean</th>\n",
       "      <td>4.514644e+06</td>\n",
       "      <td>2008.145889</td>\n",
       "      <td>1.949841e+05</td>\n",
       "      <td>1.108062e+04</td>\n",
       "      <td>5.285533</td>\n",
       "      <td>5.157385</td>\n",
       "      <td>208.831788</td>\n",
       "    </tr>\n",
       "    <tr>\n",
       "      <th>std</th>\n",
       "      <td>4.297012e+06</td>\n",
       "      <td>4.205670</td>\n",
       "      <td>1.395755e+05</td>\n",
       "      <td>1.091127e+05</td>\n",
       "      <td>0.800853</td>\n",
       "      <td>1.202795</td>\n",
       "      <td>70.940925</td>\n",
       "    </tr>\n",
       "    <tr>\n",
       "      <th>min</th>\n",
       "      <td>5.500000e+05</td>\n",
       "      <td>1979.000000</td>\n",
       "      <td>1.000000e+00</td>\n",
       "      <td>1.800000e+02</td>\n",
       "      <td>2.000000</td>\n",
       "      <td>4.000000</td>\n",
       "      <td>83.000000</td>\n",
       "    </tr>\n",
       "    <tr>\n",
       "      <th>25%</th>\n",
       "      <td>2.310000e+06</td>\n",
       "      <td>2005.000000</td>\n",
       "      <td>1.173945e+05</td>\n",
       "      <td>2.000000e+03</td>\n",
       "      <td>5.000000</td>\n",
       "      <td>4.000000</td>\n",
       "      <td>158.000000</td>\n",
       "    </tr>\n",
       "    <tr>\n",
       "      <th>50%</th>\n",
       "      <td>3.360000e+06</td>\n",
       "      <td>2008.000000</td>\n",
       "      <td>1.762900e+05</td>\n",
       "      <td>2.500000e+03</td>\n",
       "      <td>5.000000</td>\n",
       "      <td>6.000000</td>\n",
       "      <td>203.000000</td>\n",
       "    </tr>\n",
       "    <tr>\n",
       "      <th>75%</th>\n",
       "      <td>5.036250e+06</td>\n",
       "      <td>2011.000000</td>\n",
       "      <td>2.453815e+05</td>\n",
       "      <td>3.500000e+03</td>\n",
       "      <td>5.000000</td>\n",
       "      <td>6.000000</td>\n",
       "      <td>268.000000</td>\n",
       "    </tr>\n",
       "    <tr>\n",
       "      <th>max</th>\n",
       "      <td>6.240000e+07</td>\n",
       "      <td>2022.000000</td>\n",
       "      <td>2.456318e+06</td>\n",
       "      <td>3.500000e+06</td>\n",
       "      <td>8.000000</td>\n",
       "      <td>8.000000</td>\n",
       "      <td>585.000000</td>\n",
       "    </tr>\n",
       "  </tbody>\n",
       "</table>\n",
       "</div>"
      ],
      "text/plain": [
       "              price  Year of manufacture       Mileage   Engine Size  \\\n",
       "count  3.722000e+03          3722.000000  3.663000e+03  3.661000e+03   \n",
       "mean   4.514644e+06          2008.145889  1.949841e+05  1.108062e+04   \n",
       "std    4.297012e+06             4.205670  1.395755e+05  1.091127e+05   \n",
       "min    5.500000e+05          1979.000000  1.000000e+00  1.800000e+02   \n",
       "25%    2.310000e+06          2005.000000  1.173945e+05  2.000000e+03   \n",
       "50%    3.360000e+06          2008.000000  1.762900e+05  2.500000e+03   \n",
       "75%    5.036250e+06          2011.000000  2.453815e+05  3.500000e+03   \n",
       "max    6.240000e+07          2022.000000  2.456318e+06  3.500000e+06   \n",
       "\n",
       "            Seats  Number of Cylinders  Horse Power  \n",
       "count  788.000000           826.000000   755.000000  \n",
       "mean     5.285533             5.157385   208.831788  \n",
       "std      0.800853             1.202795    70.940925  \n",
       "min      2.000000             4.000000    83.000000  \n",
       "25%      5.000000             4.000000   158.000000  \n",
       "50%      5.000000             6.000000   203.000000  \n",
       "75%      5.000000             6.000000   268.000000  \n",
       "max      8.000000             8.000000   585.000000  "
      ]
     },
     "execution_count": 7,
     "metadata": {},
     "output_type": "execute_result"
    }
   ],
   "source": [
    "df.describe()"
   ]
  },
  {
   "cell_type": "code",
   "execution_count": 8,
   "id": "99100ec2-9991-4166-b152-0e5fe38c8c1b",
   "metadata": {},
   "outputs": [
    {
     "data": {
      "text/plain": [
       "True"
      ]
     },
     "execution_count": 8,
     "metadata": {},
     "output_type": "execute_result"
    }
   ],
   "source": [
    "df.isna().any().any()\n"
   ]
  },
  {
   "cell_type": "code",
   "execution_count": 9,
   "id": "b23dd54e-811c-4392-b4fb-22f3d488b236",
   "metadata": {},
   "outputs": [
    {
     "data": {
      "text/plain": [
       "car_id                    0\n",
       "price                     0\n",
       "fuel type                 1\n",
       "gear type                 2\n",
       "Make                      0\n",
       "Model                     0\n",
       "Year of manufacture       0\n",
       "Colour                    5\n",
       "Condition                 0\n",
       "Mileage                  59\n",
       "Engine Size              61\n",
       "Selling Condition         0\n",
       "Bought Condition          0\n",
       "car                    1955\n",
       "Trim                   2843\n",
       "Drivetrain             2884\n",
       "Seats                  2934\n",
       "Number of Cylinders    2896\n",
       "Horse Power            2967\n",
       "Registered city        1821\n",
       "dtype: int64"
      ]
     },
     "execution_count": 9,
     "metadata": {},
     "output_type": "execute_result"
    }
   ],
   "source": [
    "df.isna().sum()\n"
   ]
  },
  {
   "cell_type": "code",
   "execution_count": 10,
   "id": "ab58994b-6802-48e2-a605-c040deeea51e",
   "metadata": {},
   "outputs": [],
   "source": [
    "df[\"Mileage\"] = df[\"Mileage\"].fillna(df[\"Mileage\"].mean())\n"
   ]
  },
  {
   "cell_type": "code",
   "execution_count": 11,
   "id": "f91b6a5b-0903-4ed7-b0a0-c23d3b157258",
   "metadata": {},
   "outputs": [],
   "source": [
    "df[\"Engine Size\"] = df[\"Engine Size\"].fillna(df[\"Engine Size\"].mean())\n"
   ]
  },
  {
   "cell_type": "code",
   "execution_count": 12,
   "id": "2ab31e1c-7267-47b3-a082-fbf82931343c",
   "metadata": {},
   "outputs": [],
   "source": [
    "df[\"fuel type\"] = df[\"fuel type\"].fillna(df[\"fuel type\"].mode()[0])\n"
   ]
  },
  {
   "cell_type": "code",
   "execution_count": 13,
   "id": "8c5edcc8-5b9d-4240-bafe-59b1605be4ec",
   "metadata": {},
   "outputs": [
    {
     "data": {
      "text/plain": [
       "car_id                    0\n",
       "price                     0\n",
       "fuel type                 0\n",
       "gear type                 2\n",
       "Make                      0\n",
       "Model                     0\n",
       "Year of manufacture       0\n",
       "Colour                    5\n",
       "Condition                 0\n",
       "Mileage                   0\n",
       "Engine Size               0\n",
       "Selling Condition         0\n",
       "Bought Condition          0\n",
       "car                    1955\n",
       "Trim                   2843\n",
       "Drivetrain             2884\n",
       "Seats                  2934\n",
       "Number of Cylinders    2896\n",
       "Horse Power            2967\n",
       "Registered city        1821\n",
       "dtype: int64"
      ]
     },
     "execution_count": 13,
     "metadata": {},
     "output_type": "execute_result"
    }
   ],
   "source": [
    "df.isna().sum()\n"
   ]
  },
  {
   "cell_type": "code",
   "execution_count": 14,
   "id": "3abae17a-11f6-4f77-8ff2-a6383434723c",
   "metadata": {},
   "outputs": [],
   "source": [
    "# df = df.dropna()"
   ]
  },
  {
   "cell_type": "code",
   "execution_count": 15,
   "id": "3d52f484-65b7-4de5-8468-df69d335ed59",
   "metadata": {},
   "outputs": [
    {
     "data": {
      "text/plain": [
       "(3722, 20)"
      ]
     },
     "execution_count": 15,
     "metadata": {},
     "output_type": "execute_result"
    }
   ],
   "source": [
    "df.shape"
   ]
  },
  {
   "cell_type": "code",
   "execution_count": 16,
   "id": "f4a92c4e-78b0-48fa-8758-8e3665ed7b8e",
   "metadata": {},
   "outputs": [
    {
     "data": {
      "text/plain": [
       "0           Corolla\n",
       "1               MDX\n",
       "2                TL\n",
       "3       Range Rover\n",
       "4              Edge\n",
       "           ...     \n",
       "3717           RAV4\n",
       "3718        M Class\n",
       "3719          Camry\n",
       "3720           RAV4\n",
       "3721          Civic\n",
       "Name: Model, Length: 3722, dtype: object"
      ]
     },
     "execution_count": 16,
     "metadata": {},
     "output_type": "execute_result"
    }
   ],
   "source": [
    "df['Model']"
   ]
  },
  {
   "cell_type": "code",
   "execution_count": 17,
   "id": "a6c01557-253d-4959-9db8-b31e5dc5cfb4",
   "metadata": {},
   "outputs": [
    {
     "data": {
      "text/plain": [
       "0       Petrol\n",
       "1       Petrol\n",
       "2       Petrol\n",
       "3       Petrol\n",
       "4       Petrol\n",
       "         ...  \n",
       "3717    Petrol\n",
       "3718    Petrol\n",
       "3719    Petrol\n",
       "3720    Petrol\n",
       "3721    Petrol\n",
       "Name: fuel type, Length: 3722, dtype: object"
      ]
     },
     "execution_count": 17,
     "metadata": {},
     "output_type": "execute_result"
    }
   ],
   "source": [
    "df[\"fuel type\"]\n"
   ]
  },
  {
   "cell_type": "markdown",
   "id": "9d4b2280-7f06-4a0c-8c4b-7fad44dc733b",
   "metadata": {},
   "source": [
    "## Preprocess the Data"
   ]
  },
  {
   "cell_type": "code",
   "execution_count": 28,
   "id": "1722a017-fc0d-46aa-9904-234c4f0420c5",
   "metadata": {},
   "outputs": [],
   "source": [
    "# Encode categorical variables\n",
    "from sklearn.preprocessing import LabelEncoder\n",
    "\n",
    "categorical_cols = [\"fuel type\", \"Model\"]  # Add all categorical columns\n",
    "encoder = LabelEncoder()\n",
    "\n",
    "for col in categorical_cols:\n",
    "    df[col] = encoder.fit_transform(df[col])"
   ]
  },
  {
   "cell_type": "code",
   "execution_count": 29,
   "id": "b58b4b7a-a41c-4512-90f9-2b4a6eaa3315",
   "metadata": {},
   "outputs": [],
   "source": [
    "#from sklearn.preprocessing import LabelEncoder\n",
    "\n",
    "#encoder = LabelEncoder()\n",
    "\n",
    "#df[\"fuel type\"] = encoder.fit_transform(df[\"fuel type\"])\n",
    "#df[\"Model\"] = encoder.fit_transform(df[\"Model\"])\n"
   ]
  },
  {
   "cell_type": "code",
   "execution_count": 30,
   "id": "a72f3ddd-8299-4c5d-bf16-d1816ebf646d",
   "metadata": {},
   "outputs": [],
   "source": [
    "from sklearn.model_selection import train_test_split\n",
    "\n",
    "# select features and target variables\n",
    "X = df[['Mileage', 'Engine Size', 'Year of manufacture', 'fuel type', 'Model']] # Features\n",
    "y = df['price'] # Target variable\n",
    "\n"
   ]
  },
  {
   "cell_type": "code",
   "execution_count": 31,
   "id": "eb96fca6-398e-46c5-b553-33453dbafd6f",
   "metadata": {},
   "outputs": [
    {
     "data": {
      "text/plain": [
       "(3722, 5)"
      ]
     },
     "execution_count": 31,
     "metadata": {},
     "output_type": "execute_result"
    }
   ],
   "source": [
    "X.shape"
   ]
  },
  {
   "cell_type": "code",
   "execution_count": 32,
   "id": "0e7001f9-0571-4908-b955-e93f367c905b",
   "metadata": {},
   "outputs": [
    {
     "data": {
      "text/plain": [
       "(3722,)"
      ]
     },
     "execution_count": 32,
     "metadata": {},
     "output_type": "execute_result"
    }
   ],
   "source": [
    "y.shape"
   ]
  },
  {
   "cell_type": "markdown",
   "id": "697aec95-20e5-4194-aed9-98aa0518f93e",
   "metadata": {},
   "source": [
    "## Split the Data into Training and Testing Sets"
   ]
  },
  {
   "cell_type": "code",
   "execution_count": 33,
   "id": "525ececf-5593-4d15-ad76-c2c97c749e5f",
   "metadata": {},
   "outputs": [],
   "source": [
    "# Split into 80% training and 20% testing\n",
    "\n",
    "X_train, X_test, y_train, y_test = train_test_split(X, y, test_size=0.2, random_state=42)\n"
   ]
  },
  {
   "cell_type": "code",
   "execution_count": 34,
   "id": "206b4731-f531-44ad-bbef-b44bce83da7a",
   "metadata": {},
   "outputs": [
    {
     "data": {
      "text/plain": [
       "(2977, 5)"
      ]
     },
     "execution_count": 34,
     "metadata": {},
     "output_type": "execute_result"
    }
   ],
   "source": [
    "# Training set size\n",
    "\n",
    "X_train.shape"
   ]
  },
  {
   "cell_type": "code",
   "execution_count": 35,
   "id": "92fa2c24-8b8c-440f-9826-947f17595dc0",
   "metadata": {},
   "outputs": [
    {
     "data": {
      "text/plain": [
       "(745, 5)"
      ]
     },
     "execution_count": 35,
     "metadata": {},
     "output_type": "execute_result"
    }
   ],
   "source": [
    "# Testing set size\n",
    "\n",
    "X_test.shape"
   ]
  },
  {
   "cell_type": "markdown",
   "id": "ce242c5a-0d54-47eb-8def-44660496eea8",
   "metadata": {},
   "source": [
    "## Train the AI Model using Linear Regression model"
   ]
  },
  {
   "cell_type": "code",
   "execution_count": 36,
   "id": "ffce4035-a307-4822-9342-058522abe0e2",
   "metadata": {},
   "outputs": [
    {
     "name": "stdout",
     "output_type": "stream",
     "text": [
      "Model training complete!\n"
     ]
    }
   ],
   "source": [
    "# Import the LinearRegression from sklearn.linear_model\n",
    "\n",
    "from sklearn.linear_model import LinearRegression\n",
    "\n",
    "# Initialize and train the model\n",
    "model = LinearRegression()\n",
    "model.fit(X_train, y_train)\n",
    "print(\"Model training complete!\")"
   ]
  },
  {
   "cell_type": "code",
   "execution_count": 37,
   "id": "431c1451-4746-4b33-9d61-a0d195c0fdf1",
   "metadata": {},
   "outputs": [
    {
     "data": {
      "text/plain": [
       "0.31629393117399807"
      ]
     },
     "execution_count": 37,
     "metadata": {},
     "output_type": "execute_result"
    }
   ],
   "source": [
    "model.score(X_train, y_train)"
   ]
  },
  {
   "cell_type": "code",
   "execution_count": 38,
   "id": "a1938f96-29a3-4d4e-ae2c-df703d4e71d9",
   "metadata": {},
   "outputs": [
    {
     "data": {
      "text/plain": [
       "0.33314741194124553"
      ]
     },
     "execution_count": 38,
     "metadata": {},
     "output_type": "execute_result"
    }
   ],
   "source": [
    "model.score(X_test, y_test)"
   ]
  },
  {
   "cell_type": "markdown",
   "id": "384bec7d-0944-44eb-ad15-0823a4f85ac9",
   "metadata": {},
   "source": [
    "## Make Predictions for house prices using the trained model\n"
   ]
  },
  {
   "cell_type": "code",
   "execution_count": 40,
   "id": "3d01cd16-57ed-4399-8881-cc9e732e3e79",
   "metadata": {},
   "outputs": [
    {
     "name": "stdout",
     "output_type": "stream",
     "text": [
      "Predicted prices: [ 203742.67364192 3676329.90590215 3747902.89392591 2237277.79690289\n",
      " 4121465.0296104 ]\n"
     ]
    }
   ],
   "source": [
    "# Make predictions please note the word model.predict\n",
    "\n",
    "y_pred = model.predict(X_test)\n",
    "\n",
    "# Print some predicted values\n",
    "print(\"Predicted prices:\", y_pred[:5])"
   ]
  },
  {
   "cell_type": "code",
   "execution_count": 44,
   "id": "85cc174f-2473-4b22-846f-040056097654",
   "metadata": {},
   "outputs": [
    {
     "name": "stdout",
     "output_type": "stream",
     "text": [
      "Mean Absolute Error (MAE): 1986505.9201157019\n",
      "Mean Squared Error (MSE): 9491971188476.26\n",
      "Root Mean Squared Error (RMSE): 3080904.280966265\n"
     ]
    }
   ],
   "source": [
    "from sklearn.metrics import mean_absolute_error, mean_squared_error  # Import required functions\n",
    "\n",
    "\n",
    "# Calculate error metrics\n",
    "mae = mean_absolute_error(y_test, y_pred)\n",
    "mse = mean_squared_error(y_test, y_pred)\n",
    "rmse = np.sqrt(mse)  # Root Mean Squared Error\n",
    "\n",
    "# Print results with correct labels\n",
    "print(f\"Mean Absolute Error (MAE): {mae}\")\n",
    "print(f\"Mean Squared Error (MSE): {mse}\")\n",
    "print(f\"Root Mean Squared Error (RMSE): {rmse}\")\n"
   ]
  },
  {
   "cell_type": "code",
   "execution_count": null,
   "id": "d5e812b1-7596-4b61-bf05-027824ce2e20",
   "metadata": {},
   "outputs": [],
   "source": []
  }
 ],
 "metadata": {
  "kernelspec": {
   "display_name": "Python 3 (ipykernel)",
   "language": "python",
   "name": "python3"
  },
  "language_info": {
   "codemirror_mode": {
    "name": "ipython",
    "version": 3
   },
   "file_extension": ".py",
   "mimetype": "text/x-python",
   "name": "python",
   "nbconvert_exporter": "python",
   "pygments_lexer": "ipython3",
   "version": "3.12.7"
  }
 },
 "nbformat": 4,
 "nbformat_minor": 5
}
